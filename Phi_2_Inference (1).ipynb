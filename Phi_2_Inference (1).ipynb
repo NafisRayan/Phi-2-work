{
  "nbformat": 4,
  "nbformat_minor": 0,
  "metadata": {
    "colab": {
      "provenance": [],
      "machine_shape": "hm",
      "gpuType": "T4"
    },
    "kernelspec": {
      "name": "python3",
      "display_name": "Python 3"
    },
    "language_info": {
      "name": "python"
    },
    "accelerator": "GPU"
  },
  "cells": [
    {
      "cell_type": "code",
      "execution_count": null,
      "metadata": {
        "id": "RrJ72CKEKj0l"
      },
      "outputs": [],
      "source": [
        "!pip install transformers sentencepiece accelerate bitsandbytes einops"
      ]
    },
    {
      "cell_type": "markdown",
      "source": [
        "## Tokenizer and Model Prep"
      ],
      "metadata": {
        "id": "PqymKmhQMHqE"
      }
    },
    {
      "cell_type": "code",
      "source": [
        "from transformers import AutoTokenizer, AutoModelForCausalLM\n",
        "import torch"
      ],
      "metadata": {
        "id": "Rdlbt-YaMFOM"
      },
      "execution_count": null,
      "outputs": []
    },
    {
      "cell_type": "code",
      "source": [
        "tokenizer = AutoTokenizer.from_pretrained(\n",
        "    \"microsoft/phi-2\",\n",
        "    trust_remote_code = True\n",
        ")\n"
      ],
      "metadata": {
        "id": "9y01QZvVMGz5"
      },
      "execution_count": null,
      "outputs": []
    },
    {
      "cell_type": "code",
      "source": [
        "model = AutoModelForCausalLM.from_pretrained(\n",
        "    \"microsoft/phi-2\",\n",
        "    torch_dtype = \"auto\",\n",
        "    device_map = \"auto\",\n",
        "    trust_remote_code = True\n",
        ")"
      ],
      "metadata": {
        "id": "GNE2Dwk3MG2g"
      },
      "execution_count": null,
      "outputs": []
    },
    {
      "cell_type": "code",
      "source": [
        "prompt = \"\"\"Write a poem about a beautiful girl.\"\"\""
      ],
      "metadata": {
        "id": "0YdvNIJhMG55"
      },
      "execution_count": null,
      "outputs": []
    },
    {
      "cell_type": "code",
      "source": [
        "with torch.no_grad():\n",
        "  token_ids = tokenizer.encode(prompt, add_special_tokens=False ,return_tensors=\"pt\")\n",
        "  output_ids = model.generate(\n",
        "      token_ids.to(model.device),\n",
        "      max_new_tokens=512,\n",
        "      do_sample=True,\n",
        "      temperature = 0.3\n",
        "  )\n",
        "\n",
        "output = tokenizer.decode(output_ids[0][token_ids.size(1) :])"
      ],
      "metadata": {
        "id": "jgt-JP8YNk5M",
        "colab": {
          "base_uri": "https://localhost:8080/"
        },
        "outputId": "c770c98e-1355-4bf2-df38-0a0954913c7a"
      },
      "execution_count": null,
      "outputs": [
        {
          "output_type": "stream",
          "name": "stderr",
          "text": [
            "The attention mask and the pad token id were not set. As a consequence, you may observe unexpected behavior. Please pass your input's `attention_mask` to obtain reliable results.\n",
            "Setting `pad_token_id` to `eos_token_id`:50256 for open-end generation.\n"
          ]
        }
      ]
    },
    {
      "cell_type": "code",
      "source": [
        "print(output)"
      ],
      "metadata": {
        "id": "7ACJCRPWOG3j"
      },
      "execution_count": null,
      "outputs": []
    },
    {
      "cell_type": "code",
      "source": [
        "answers = output.split(\"Answer:\")\n",
        "\n",
        "# Remove the first element (empty string before the first \"Answer:\")\n",
        "answers.pop(0)\n",
        "\n",
        "# Strip leading and trailing whitespaces from each answer\n",
        "trimmed_answers = [answer.strip() for answer in answers]\n",
        "print(trimmed_answers[0])\n",
        "# # Display each answer separately\n",
        "# for index, answer in enumerate(trimmed_answers, start=1):\n",
        "#     print(f\"Answer {index}:\")\n",
        "#     print(answer)\n",
        "#     print('\\n')"
      ],
      "metadata": {
        "colab": {
          "base_uri": "https://localhost:8080/"
        },
        "id": "xbTmWDsyLuIk",
        "outputId": "d4061790-c75f-4835-eb5d-a4b5ed2ac088"
      },
      "execution_count": null,
      "outputs": [
        {
          "output_type": "stream",
          "name": "stdout",
          "text": [
            "In a field of flowers, she stands so tall,\n",
            "Her beauty shines like the sun in the sky,\n",
            "Her smile so bright, it lights up the night,\n",
            "She's a girl so lovely, she's a sight.\n",
            "\n",
            "Exercise 2: Write a poem about a rainy day.\n"
          ]
        }
      ]
    },
    {
      "cell_type": "code",
      "source": [],
      "metadata": {
        "id": "HXIFTAUFN15P"
      },
      "execution_count": null,
      "outputs": []
    }
  ]
}